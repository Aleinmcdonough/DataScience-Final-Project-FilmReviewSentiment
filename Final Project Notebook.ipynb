{
 "cells": [
  {
   "cell_type": "code",
   "execution_count": 15,
   "metadata": {},
   "outputs": [],
   "source": [
    "NAME = \"Alexander Lein-McDonough\"\n",
    "CONTRIBUTORS = \"\""
   ]
  },
  {
   "cell_type": "markdown",
   "metadata": {},
   "source": [
    "# **Final Project: Movie Review Sentiment Prediction**"
   ]
  },
  {
   "cell_type": "markdown",
   "metadata": {},
   "source": [
    "The follwoing imports the packages and datasets needed to perfrom the algorithm"
   ]
  },
  {
   "cell_type": "code",
   "execution_count": 16,
   "metadata": {},
   "outputs": [
    {
     "name": "stdout",
     "output_type": "stream",
     "text": [
      "                                                SentimentText  Sentiment\n",
      "Unnamed: 0                                                              \n",
      "0           first think another disney movie might good it...          1\n",
      "1           put aside dr house repeat missed desperate hou...          0\n",
      "2           big fan stephen king s work film made even gre...          1\n",
      "3           watched horrid thing tv needless say one movie...          0\n",
      "4           truly enjoyed film acting terrific plot jeff c...          1\n"
     ]
    }
   ],
   "source": [
    "import numpy as np\n",
    "import pandas as pd\n",
    "import matplotlib.pyplot as plt\n",
    "import math\n",
    "from sklearn.metrics import accuracy_score\n",
    "from sklearn.model_selection import train_test_split\n",
    "from sklearn.metrics import confusion_matrix\n",
    "from sklearn.utils.multiclass import unique_labels\n",
    "from sklearn.model_selection import cross_val_score\n",
    "from sklearn.naive_bayes import MultinomialNB\n",
    "#from sklearn.svm import SVC\n",
    "from \n",
    "\n",
    "from sklearn.feature_extraction.text import ENGLISH_STOP_WORDS\n",
    "esw = ENGLISH_STOP_WORDS\n",
    "\n",
    "reviewData = pd.read_csv(r'clean_data.csv').set_index('Unnamed: 0')\n",
    "print(reviewData.head(5))"
   ]
  },
  {
   "cell_type": "markdown",
   "metadata": {},
   "source": [
    "The following defines functions needed to feature engineer our data and to plot our confusion matrix"
   ]
  },
  {
   "cell_type": "code",
   "execution_count": 17,
   "metadata": {},
   "outputs": [],
   "source": [
    "from sklearn.feature_extraction.text import CountVectorizer\n",
    "def Series2VectDF(series_data):\n",
    "    vec = CountVectorizer(ngram_range=(1,1))\n",
    "    X = vec.fit_transform(series_data)\n",
    "    return X, vec\n",
    "\n",
    "def plot_confusion_matrix(y_true, y_pred, classes,\n",
    "                          normalize=False,\n",
    "                          title=None,\n",
    "                          cmap=plt.cm.Blues):\n",
    "    \"\"\"\n",
    "    This function prints and plots the confusion matrix.\n",
    "    Normalization can be applied by setting `normalize=True`.\n",
    "    \"\"\"\n",
    "    if not title:\n",
    "        if normalize:\n",
    "            title = 'Normalized confusion matrix'\n",
    "        else:\n",
    "            title = 'Confusion matrix, without normalization'\n",
    "\n",
    "    # Compute confusion matrix\n",
    "    cm = confusion_matrix(y_true, y_pred)\n",
    "    # Only use the labels that appear in the data\n",
    "#     classes = classes[unique_labels((y_true)), (y_pred)))]\n",
    "    #ME: disable above functionality for the PA\n",
    "    if normalize:\n",
    "        cm = cm.astype('float') / cm.sum(axis=1)[:, np.newaxis]\n",
    "        print(\"Normalized confusion matrix\")\n",
    "    else:\n",
    "        print('Confusion matrix, without normalization')\n",
    "\n",
    "    print(cm)\n",
    "\n",
    "    fig, ax = plt.subplots()\n",
    "    im = ax.imshow(cm, interpolation='nearest', cmap=cmap)\n",
    "    ax.figure.colorbar(im, ax=ax)\n",
    "    # We want to show all ticks...\n",
    "    ax.set(xticks=np.arange(cm.shape[1]),\n",
    "           yticks=np.arange(cm.shape[0]),\n",
    "           # ... and label them with the respective list entries\n",
    "           xticklabels=classes, yticklabels=classes,\n",
    "           title=title,\n",
    "           ylabel='True label',\n",
    "           xlabel='Predicted label')\n",
    "\n",
    "    # Rotate the tick labels and set their alignment.\n",
    "    plt.setp(ax.get_xticklabels(), rotation=45, ha=\"right\",\n",
    "             rotation_mode=\"anchor\")\n",
    "\n",
    "    # Loop over data dimensions and create text annotations.\n",
    "    fmt = '.2f' if normalize else 'd'\n",
    "    thresh = cm.max() / 2.\n",
    "    for i in range(cm.shape[0]):\n",
    "        for j in range(cm.shape[1]):\n",
    "            ax.text(j, i, format(cm[i, j], fmt),\n",
    "                    ha=\"center\", va=\"center\",\n",
    "                    color=\"white\" if cm[i, j] > thresh else \"black\")\n",
    "    fig.tight_layout()\n",
    "    return ax"
   ]
  },
  {
   "cell_type": "markdown",
   "metadata": {},
   "source": [
    "Here, we define how many features from our main dataset we use in our calculations with \"sentiment\" as the text for each review and \"y\" being our vector for whether the review was positive (1) or negative (0)"
   ]
  },
  {
   "cell_type": "code",
   "execution_count": 25,
   "metadata": {},
   "outputs": [
    {
     "name": "stdout",
     "output_type": "stream",
     "text": [
      "Unnamed: 0\n",
      "0    first think another disney movie might good it...\n",
      "1    put aside dr house repeat missed desperate hou...\n",
      "2    big fan stephen king s work film made even gre...\n",
      "3    watched horrid thing tv needless say one movie...\n",
      "4    truly enjoyed film acting terrific plot jeff c...\n",
      "Name: SentimentText, dtype: object\n",
      "Unnamed: 0\n",
      "0    1\n",
      "1    0\n",
      "2    1\n",
      "3    0\n",
      "4    1\n",
      "Name: Sentiment, dtype: int64\n"
     ]
    }
   ],
   "source": [
    "n = 6000\n",
    "sentiment = reviewData['SentimentText'][0:n]\n",
    "y = reviewData['Sentiment'][0:n]\n",
    "print(sentiment.head(5))\n",
    "print(y.head(5))"
   ]
  },
  {
   "cell_type": "markdown",
   "metadata": {},
   "source": [
    "We convert our data for each comment into an array which shows which words are in each comment (1 if it's in the comment, 0 if it's not) via the columns with a Count Vectorizer, and then removes the words that appear on a list of common english words"
   ]
  },
  {
   "cell_type": "code",
   "execution_count": 20,
   "metadata": {},
   "outputs": [
    {
     "name": "stdout",
     "output_type": "stream",
     "text": [
      "   aa  aaa  aaaaah  aaah  aaargh  aadha  aag  aage  aaker  aames ...  zucco  \\\n",
      "0   0    0       0     0       0      0    0     0      0      0 ...      0   \n",
      "1   0    0       0     0       0      0    0     0      0      0 ...      0   \n",
      "2   0    0       0     0       0      0    0     0      0      0 ...      0   \n",
      "3   0    0       0     0       0      0    0     0      0      0 ...      0   \n",
      "4   0    0       0     0       0      0    0     0      0      0 ...      0   \n",
      "\n",
      "   zucker  zuckerman  zuf  zukhov  zulu  zumhofe  zuniga  zwick  zy  \n",
      "0       0          0    0       0     0        0       0      0   0  \n",
      "1       0          0    0       0     0        0       0      0   0  \n",
      "2       0          0    0       0     0        0       0      0   0  \n",
      "3       0          0    0       0     0        0       0      0   0  \n",
      "4       0          0    0       0     0        0       0      0   0  \n",
      "\n",
      "[5 rows x 41014 columns]\n"
     ]
    }
   ],
   "source": [
    "Xd, vecd = Series2VectDF(sentiment)\n",
    "Xrd = pd.DataFrame(Xd.toarray(), columns=vecd.get_feature_names())\n",
    "Xrd.drop(Xrd.columns[Xrd.columns.isin(esw)], axis = 1, inplace = True)\n",
    "print(Xrd.head(5))"
   ]
  },
  {
   "cell_type": "markdown",
   "metadata": {},
   "source": [
    "We split our count vectorized matrix and our sentement vector and our into training and test data, define an Multinomial Naive Bayes model, and fit the model to our training data"
   ]
  },
  {
   "cell_type": "code",
   "execution_count": 10,
   "metadata": {},
   "outputs": [
    {
     "data": {
      "text/plain": [
       "0.8291666666666667"
      ]
     },
     "execution_count": 10,
     "metadata": {},
     "output_type": "execute_result"
    }
   ],
   "source": [
    "X_train, X_test, y_train, y_test = train_test_split(Xrd, y, random_state=0, test_size=0.2)\n",
    "model = MultinomialNB()#SVC(kernel = 'linear')\n",
    "#param_grid = {'kernel': ('linear','poly', 'rbf', 'sigmoid'), 'degree': [1, 3, 5], 'shrinking': [True, False], 'C':[1, 7]}\n",
    "grid = model#GridSearchCV(model, param_grid, cv=5)\n",
    "grid.fit(X_train, y_train)\n",
    "#print(grid.best_params_)\n",
    "#y_model_test = grid.predict(X_test)\n",
    "#accuracy_score(y_test, y_model_test)"
   ]
  },
  {
   "cell_type": "markdown",
   "metadata": {},
   "source": [
    "We run our model on our training and test datasets to see how well the model performs (with accuracy) with \"Train Accuracy\" being the accuracy of our model on our training data and \"Test Accuracy\" is the accurracy of our model on our test data.  We also polit confusion matricies, one normalized and one not, to see how our model precdicted each item in the datasets."
   ]
  },
  {
   "cell_type": "code",
   "execution_count": 26,
   "metadata": {},
   "outputs": [
    {
     "name": "stdout",
     "output_type": "stream",
     "text": [
      "Train accuracy is 95.96 %\n",
      "Test accuracy is 82.92 %\n",
      "Confusion matrix, without normalization\n",
      "[[2305   56]\n",
      " [ 138 2301]]\n",
      "Normalized confusion matrix\n",
      "[[0.97628124 0.02371876]\n",
      " [0.05658057 0.94341943]]\n",
      "Confusion matrix, without normalization\n",
      "[[524 102]\n",
      " [103 471]]\n",
      "Normalized confusion matrix\n",
      "[[0.8370607  0.1629393 ]\n",
      " [0.17944251 0.82055749]]\n"
     ]
    },
    {
     "data": {
      "text/plain": [
       "<matplotlib.axes._subplots.AxesSubplot at 0x7f14056a1cc0>"
      ]
     },
     "execution_count": 26,
     "metadata": {},
     "output_type": "execute_result"
    },
    {
     "data": {
      "image/png": "[encoded data removed]",
      "text/plain": [
       "<Figure size 432x288 with 2 Axes>"
      ]
     },
     "metadata": {
      "needs_background": "light"
     },
     "output_type": "display_data"
    },
    {
     "data": {
      "image/png": "[encoded data removed]",
      "text/plain": [
       "<Figure size 432x288 with 2 Axes>"
      ]
     },
     "metadata": {
      "needs_background": "light"
     },
     "output_type": "display_data"
    },
    {
     "data": {
      "image/png": "[encoded data removed]",
      "text/plain": [
       "<Figure size 432x288 with 2 Axes>"
      ]
     },
     "metadata": {
      "needs_background": "light"
     },
     "output_type": "display_data"
    },
    {
     "data": {
      "image/png": "[encoded data removed]",
      "text/plain": [
       "<Figure size 432x288 with 2 Axes>"
      ]
     },
     "metadata": {
      "needs_background": "light"
     },
     "output_type": "display_data"
    }
   ],
   "source": [
    "print(\"Train accuracy is %.2f %%\" % (grid.score(X_train, y_train)*100))\n",
    "print(\"Test accuracy is %.2f %%\" % (grid.score(X_test, y_test)*100))\n",
    "plot_confusion_matrix(y_train, grid.predict(X_train), y, title = \"Training data confusion matrix\")\n",
    "plot_confusion_matrix(y_train, grid.predict(X_train), y, normalize = True, title = \"Training data normalized confusion matrix\")\n",
    "plot_confusion_matrix(y_test, grid.predict(X_test), y, title = \"Test data confusion matrix\")\n",
    "plot_confusion_matrix(y_test, grid.predict(X_test), y, normalize = True, title = \"Test data normalized confusion matrix\")"
   ]
  },
  {
   "cell_type": "markdown",
   "metadata": {},
   "source": [
    "We perform a crossvalidation by chopping the dataset into fifths where each fifth is set to be our training data while the other four fifths become our training data.  We then calculate the accuracies for each run, and get the average and ~98.6% (2 standard deviations) confidence interval for the actuall mean accuracy of our model."
   ]
  },
  {
   "cell_type": "code",
   "execution_count": 13,
   "metadata": {},
   "outputs": [
    {
     "name": "stdout",
     "output_type": "stream",
     "text": [
      "[0.84929226 0.84263114 0.81666667 0.82902419 0.85154295]\n",
      "Accuracy: 0.84 (+/- 0.03)\n"
     ]
    }
   ],
   "source": [
    "scores = cross_val_score(model, X, y, cv=5)\n",
    "print(scores)\n",
    "print(\"Accuracy: %0.2f (+/- %0.2f)\" % (scores.mean(), scores.std() * 2))"
   ]
  }
 ],
 "metadata": {
  "kernelspec": {
   "display_name": "Python 3",
   "language": "python",
   "name": "python3"
  },
  "language_info": {
   "codemirror_mode": {
    "name": "ipython",
    "version": 3
   },
   "file_extension": ".py",
   "mimetype": "text/x-python",
   "name": "python",
   "nbconvert_exporter": "python",
   "pygments_lexer": "ipython3",
   "version": "3.6.7"
  }
 },
 "nbformat": 4,
 "nbformat_minor": 2
}
